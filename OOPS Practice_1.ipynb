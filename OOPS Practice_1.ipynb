{
 "cells": [
  {
   "cell_type": "markdown",
   "id": "5c5d4112",
   "metadata": {},
   "source": [
    "# Object Oriented Programming"
   ]
  },
  {
   "cell_type": "markdown",
   "id": "246e0307",
   "metadata": {},
   "source": [
    "# Class and Objects"
   ]
  },
  {
   "cell_type": "code",
   "execution_count": 4,
   "id": "71bc2cd6",
   "metadata": {},
   "outputs": [],
   "source": [
    "class Person():\n",
    "    pass"
   ]
  },
  {
   "cell_type": "code",
   "execution_count": 5,
   "id": "78b7cd25",
   "metadata": {},
   "outputs": [],
   "source": [
    "p1 = Person()"
   ]
  },
  {
   "cell_type": "code",
   "execution_count": 6,
   "id": "1a86a22c",
   "metadata": {},
   "outputs": [
    {
     "data": {
      "text/plain": [
       "<__main__.Person at 0x1c57a78d490>"
      ]
     },
     "execution_count": 6,
     "metadata": {},
     "output_type": "execute_result"
    }
   ],
   "source": [
    "p1"
   ]
  },
  {
   "cell_type": "code",
   "execution_count": 19,
   "id": "c715ef34",
   "metadata": {},
   "outputs": [],
   "source": [
    "class Person():\n",
    "    #attributes/Charactertics/Features/Properties\n",
    "    name = \"Nawaz Sharif\"\n",
    "    age = 12\n",
    "    gender = \"M\"\n",
    "    height = 6\n",
    "    weight = 60\n",
    "    # beharviours/methods/functionlities/actions\n",
    "    def eat(self):\n",
    "        print(f\"{self.name} is eating Pakistan\")\n",
    "    def run(self):\n",
    "        print(f\"{self.name} is running out from Pakistan\")"
   ]
  },
  {
   "cell_type": "code",
   "execution_count": 20,
   "id": "90472d63",
   "metadata": {},
   "outputs": [],
   "source": [
    "p1 = Person()"
   ]
  },
  {
   "cell_type": "code",
   "execution_count": 21,
   "id": "0717730e",
   "metadata": {},
   "outputs": [
    {
     "data": {
      "text/plain": [
       "'Nawaz Sharif'"
      ]
     },
     "execution_count": 21,
     "metadata": {},
     "output_type": "execute_result"
    }
   ],
   "source": [
    "p1.name"
   ]
  },
  {
   "cell_type": "code",
   "execution_count": 22,
   "id": "333d7bff",
   "metadata": {},
   "outputs": [
    {
     "data": {
      "text/plain": [
       "'M'"
      ]
     },
     "execution_count": 22,
     "metadata": {},
     "output_type": "execute_result"
    }
   ],
   "source": [
    "p1.gender"
   ]
  },
  {
   "cell_type": "code",
   "execution_count": 23,
   "id": "c73822c7",
   "metadata": {},
   "outputs": [
    {
     "name": "stdout",
     "output_type": "stream",
     "text": [
      "Nawaz Sharif is eating Pakistan\n"
     ]
    }
   ],
   "source": [
    "p1.eat()"
   ]
  },
  {
   "cell_type": "code",
   "execution_count": 24,
   "id": "46260e25",
   "metadata": {},
   "outputs": [
    {
     "name": "stdout",
     "output_type": "stream",
     "text": [
      "Nawaz Sharif is running out from Pakistan\n"
     ]
    }
   ],
   "source": [
    " p1.run()"
   ]
  },
  {
   "cell_type": "code",
   "execution_count": 26,
   "id": "3cde2c26",
   "metadata": {},
   "outputs": [],
   "source": [
    "class Person():\n",
    "    #attributes/Charactertics/Features/Properties\n",
    "    def __init__(self,name,gender,age):\n",
    "        self.name = name\n",
    "        self.gender = gender\n",
    "        self.age = age\n",
    "    # beharviours/methods/functionlities/actions\n",
    "    def eat(self):\n",
    "        print(f\"{self.name} is eating Pakistan\")\n",
    "    def run(self):\n",
    "        print(f\"{self.name} is running out from Pakistan\")"
   ]
  },
  {
   "cell_type": "code",
   "execution_count": 32,
   "id": "d066367c",
   "metadata": {},
   "outputs": [],
   "source": [
    "p3 = Person('soahil','male',18)\n"
   ]
  },
  {
   "cell_type": "code",
   "execution_count": 33,
   "id": "c832c9b2",
   "metadata": {},
   "outputs": [
    {
     "data": {
      "text/plain": [
       "'soahil'"
      ]
     },
     "execution_count": 33,
     "metadata": {},
     "output_type": "execute_result"
    }
   ],
   "source": [
    "p3.name"
   ]
  },
  {
   "cell_type": "code",
   "execution_count": 34,
   "id": "3ac49040",
   "metadata": {},
   "outputs": [],
   "source": [
    "p4 = Person('ali','male',15)"
   ]
  },
  {
   "cell_type": "code",
   "execution_count": 35,
   "id": "f9ea1b5b",
   "metadata": {},
   "outputs": [
    {
     "data": {
      "text/plain": [
       "'ali'"
      ]
     },
     "execution_count": 35,
     "metadata": {},
     "output_type": "execute_result"
    }
   ],
   "source": [
    "p4.name"
   ]
  },
  {
   "cell_type": "code",
   "execution_count": 36,
   "id": "a13cda2c",
   "metadata": {},
   "outputs": [
    {
     "name": "stdout",
     "output_type": "stream",
     "text": [
      "soahil is eating Pakistan\n"
     ]
    }
   ],
   "source": [
    "Person.eat(p3)"
   ]
  },
  {
   "cell_type": "code",
   "execution_count": 37,
   "id": "0ff1dbd0",
   "metadata": {},
   "outputs": [
    {
     "name": "stdout",
     "output_type": "stream",
     "text": [
      "soahil is eating Pakistan\n"
     ]
    }
   ],
   "source": [
    "p3.eat()"
   ]
  },
  {
   "cell_type": "code",
   "execution_count": 38,
   "id": "337359f9",
   "metadata": {},
   "outputs": [
    {
     "name": "stdout",
     "output_type": "stream",
     "text": [
      "ali is eating Pakistan\n"
     ]
    }
   ],
   "source": [
    "p4.eat()"
   ]
  },
  {
   "cell_type": "code",
   "execution_count": 44,
   "id": "35d1029f",
   "metadata": {},
   "outputs": [],
   "source": [
    "class CellPhone():\n",
    "    def __init__(self,model,color,ram,storage,pro,price,camera):\n",
    "        self.model = model\n",
    "        self.color = color\n",
    "        self.ram = ram\n",
    "        self.storage = storage\n",
    "        self.pro = pro\n",
    "        self.price = price\n",
    "        self.camera = camera\n",
    "        \n",
    "    def spcecs(self):\n",
    "        print(f\"\"\"\n",
    "              Model: {self.model}\n",
    "              Color: {self.color}\n",
    "              Ram: {self.ram}\n",
    "              Storage:{self.storage}\n",
    "              Pro: {self.pro}\n",
    "              Price: {self.price}\n",
    "              Camera:{self.camera}\n",
    "              \"\"\")\n",
    "    def dail(self,name):\n",
    "        print(f\"Phone is calling {name}\")\n",
    "        \n",
    "    def msg(self,name,msg):\n",
    "        print(f\"Phone is sending  {msg} to {name}\")"
   ]
  },
  {
   "cell_type": "code",
   "execution_count": 45,
   "id": "11cb1c5d",
   "metadata": {},
   "outputs": [],
   "source": [
    "c1 = CellPhone('Iphone','Black','4Gb','64Gb','Snap','100Mp',200000)"
   ]
  },
  {
   "cell_type": "code",
   "execution_count": 46,
   "id": "b935a1ca",
   "metadata": {},
   "outputs": [
    {
     "name": "stdout",
     "output_type": "stream",
     "text": [
      "\n",
      "              Model: Iphone\n",
      "              Color: Black\n",
      "              Ram: 4Gb\n",
      "              Storage:64Gb\n",
      "              Pro: Snap\n",
      "              Price: 100Mp\n",
      "              Camera:200000\n",
      "              \n"
     ]
    }
   ],
   "source": [
    "c1.spcecs()"
   ]
  },
  {
   "cell_type": "code",
   "execution_count": 47,
   "id": "4fbf4b7d",
   "metadata": {},
   "outputs": [
    {
     "name": "stdout",
     "output_type": "stream",
     "text": [
      "Phone is calling ali\n"
     ]
    }
   ],
   "source": [
    "c1.dail('ali')"
   ]
  },
  {
   "cell_type": "code",
   "execution_count": 48,
   "id": "3d54e071",
   "metadata": {},
   "outputs": [
    {
     "name": "stdout",
     "output_type": "stream",
     "text": [
      "Phone is sending  where are you to ali\n"
     ]
    }
   ],
   "source": [
    "c1.msg('ali','where are you')"
   ]
  },
  {
   "cell_type": "code",
   "execution_count": 49,
   "id": "80a8ad43",
   "metadata": {},
   "outputs": [],
   "source": [
    "c1.color = 'Blue'"
   ]
  },
  {
   "cell_type": "code",
   "execution_count": 50,
   "id": "35dc9679",
   "metadata": {},
   "outputs": [
    {
     "name": "stdout",
     "output_type": "stream",
     "text": [
      "\n",
      "              Model: Iphone\n",
      "              Color: Blue\n",
      "              Ram: 4Gb\n",
      "              Storage:64Gb\n",
      "              Pro: Snap\n",
      "              Price: 100Mp\n",
      "              Camera:200000\n",
      "              \n"
     ]
    }
   ],
   "source": [
    "c1.spcecs()"
   ]
  },
  {
   "cell_type": "markdown",
   "id": "103960ef",
   "metadata": {},
   "source": [
    ". Restaurant: Make a class called Restaurant . The __init__() method for \n",
    "Restaurant should store two attributes: a restaurant_name and a cuisine_type . \n",
    "Make a method called describe_restaurant() that prints these two pieces of \n",
    "information, and a method called open_restaurant() that prints a message indi\n",
    "cating that the restaurant is open "
   ]
  },
  {
   "cell_type": "code",
   "execution_count": 59,
   "id": "1a3c46e4",
   "metadata": {},
   "outputs": [],
   "source": [
    "class Restaurant():\n",
    "    def __init__(self,restaurant_name,cuisine_type):\n",
    "        self.restaurant_name = restaurant_name\n",
    "        self.cuisine_type = cuisine_type\n",
    "    def describe_restaurant(self):\n",
    "        print(f\"resturant name is {self.restaurant_name} and cusine is {self.cuisine_type}\")\n",
    "    def open_restaurant(self,msg):\n",
    "        print(f\"message indicating that {msg}\")\n",
    "        \n",
    "        "
   ]
  },
  {
   "cell_type": "code",
   "execution_count": 60,
   "id": "c7f5bda8",
   "metadata": {},
   "outputs": [],
   "source": [
    "c2 = Restaurant('kabache','biryani')"
   ]
  },
  {
   "cell_type": "code",
   "execution_count": 61,
   "id": "4a8842be",
   "metadata": {},
   "outputs": [
    {
     "name": "stdout",
     "output_type": "stream",
     "text": [
      "resturant name is kabache and cusine is biryani\n"
     ]
    }
   ],
   "source": [
    "c2.describe_restaurant()"
   ]
  },
  {
   "cell_type": "code",
   "execution_count": 62,
   "id": "cc01e86d",
   "metadata": {},
   "outputs": [
    {
     "name": "stdout",
     "output_type": "stream",
     "text": [
      "message indicating that resturant is open\n"
     ]
    }
   ],
   "source": [
    "c2.open_restaurant('resturant is open')"
   ]
  },
  {
   "cell_type": "code",
   "execution_count": null,
   "id": "5cff8a41",
   "metadata": {},
   "outputs": [],
   "source": []
  }
 ],
 "metadata": {
  "kernelspec": {
   "display_name": "Python 3 (ipykernel)",
   "language": "python",
   "name": "python3"
  },
  "language_info": {
   "codemirror_mode": {
    "name": "ipython",
    "version": 3
   },
   "file_extension": ".py",
   "mimetype": "text/x-python",
   "name": "python",
   "nbconvert_exporter": "python",
   "pygments_lexer": "ipython3",
   "version": "3.11.5"
  }
 },
 "nbformat": 4,
 "nbformat_minor": 5
}
