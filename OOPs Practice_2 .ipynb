{
 "cells": [
  {
   "cell_type": "markdown",
   "id": "41bf4a87",
   "metadata": {},
   "source": [
    ": Make a class called User. Create two attributes called first_name\n",
    "and last_name, and then create several other attributes that are typically stored \n",
    "in a user profile. Make a method called describe_user() that prints a summary \n",
    "of the user’s information. Make another method called greet_user() that prints \n",
    "a personalized greeting to the user.\n",
    "Create several instances representing different users, and call both methods \n",
    "for each user"
   ]
  },
  {
   "cell_type": "code",
   "execution_count": 52,
   "id": "9c3c8a5d",
   "metadata": {},
   "outputs": [],
   "source": [
    "class User():\n",
    "    def __init__(self,first_name,last_name,email,gender):\n",
    "        self.first_name = first_name\n",
    "        self.last_name = last_name\n",
    "        self.email = email\n",
    "        self.gender = gender\n",
    "    def describe_user(self):\n",
    "        print(f'{self.first_name}')\n",
    "        print(f\"{self.last_name}\")\n",
    "        print(f\"{self.email}\")\n",
    "        print(f'{self.gender}')\n",
    "        \n",
    "    def greet_user(self,first_name):\n",
    "        print(f\"Hello {first_name} Welcome to our platform\")\n",
    "        "
   ]
  },
  {
   "cell_type": "code",
   "execution_count": 53,
   "id": "7faab9ab",
   "metadata": {},
   "outputs": [],
   "source": [
    "User1 = User('sohail','abbas','soohail','male')"
   ]
  },
  {
   "cell_type": "code",
   "execution_count": 54,
   "id": "3d9e2ab6",
   "metadata": {},
   "outputs": [
    {
     "name": "stdout",
     "output_type": "stream",
     "text": [
      "sohail\n",
      "abbas\n",
      "soohail\n",
      "male\n"
     ]
    }
   ],
   "source": [
    "User1.describe_user()"
   ]
  },
  {
   "cell_type": "code",
   "execution_count": 55,
   "id": "bdab021f",
   "metadata": {},
   "outputs": [
    {
     "name": "stdout",
     "output_type": "stream",
     "text": [
      "Hello sohail Welcome to our platform\n"
     ]
    }
   ],
   "source": [
    "User1.greet_user('sohail')"
   ]
  },
  {
   "cell_type": "markdown",
   "id": "ff5cb047",
   "metadata": {},
   "source": [
    "Write a python program to create a class called \"Rectangle\" with properties for width and height include two\n",
    "methods to calculate retangle area and perimeter. Create an instance of the \"Rectangle\" class calculate its area and perimeter"
   ]
  },
  {
   "cell_type": "code",
   "execution_count": 69,
   "id": "27a569b1",
   "metadata": {},
   "outputs": [],
   "source": [
    "class Rectangle():\n",
    "    def __init__(self,width,height):\n",
    "        self.width = width\n",
    "        self.height = height\n",
    "    def area(self):\n",
    "        return self.width * self.height\n",
    "    def perimeter(self):\n",
    "        return 2*(self.width + self.height)"
   ]
  },
  {
   "cell_type": "code",
   "execution_count": 70,
   "id": "af29e2b3",
   "metadata": {},
   "outputs": [],
   "source": [
    "class1 = Rectangle(4,6)"
   ]
  },
  {
   "cell_type": "code",
   "execution_count": 71,
   "id": "9dcf0063",
   "metadata": {},
   "outputs": [
    {
     "data": {
      "text/plain": [
       "24"
      ]
     },
     "execution_count": 71,
     "metadata": {},
     "output_type": "execute_result"
    }
   ],
   "source": [
    "class1.area()"
   ]
  },
  {
   "cell_type": "code",
   "execution_count": 72,
   "id": "4aaeba95",
   "metadata": {},
   "outputs": [
    {
     "data": {
      "text/plain": [
       "20"
      ]
     },
     "execution_count": 72,
     "metadata": {},
     "output_type": "execute_result"
    }
   ],
   "source": [
    "class1.perimeter()"
   ]
  },
  {
   "cell_type": "markdown",
   "id": "46dfef74",
   "metadata": {},
   "source": [
    "# Write a program that creates a class \"BankAccount\" with properties for account number and balance. Include methods to deposit and withdraw money from acount.Create some instances of the \"BankAccount\" class,deposit some money, and withdraw a portion of it."
   ]
  },
  {
   "cell_type": "code",
   "execution_count": 3,
   "id": "1feb4c80",
   "metadata": {},
   "outputs": [],
   "source": [
    "class BankAccount():\n",
    "    def __init__(self,ac_number,balance):\n",
    "        self.ac_number = ac_number\n",
    "        self.balance = balance\n",
    "        \n",
    "    def deposit(self):\n",
    "        amount = int(input(\"Enter amount for deposit\"))\n",
    "        self.balance += amount\n",
    "        print(f\"Rs.{amount} has been credit  in your account\")\n",
    "    def withdraw(self):\n",
    "              amount = int(input(\"Enter the amount for withdraw\"))\n",
    "              if amount > self.balance:\n",
    "                 print(\"Sorry! Insufficient Balance\")\n",
    "              else:\n",
    "                  self.balance -= amount\n",
    "                  print(f'Here is your  cash of Rs. {amount}')\n",
    "              \n",
    "              "
   ]
  },
  {
   "cell_type": "code",
   "execution_count": 5,
   "id": "4afa6d7b",
   "metadata": {},
   "outputs": [],
   "source": [
    "ac1= BankAccount(1234,25000)"
   ]
  },
  {
   "cell_type": "code",
   "execution_count": 6,
   "id": "0e98aed7",
   "metadata": {},
   "outputs": [
    {
     "name": "stdout",
     "output_type": "stream",
     "text": [
      "Enter amount for deposit5000\n",
      "Rs.5000 has been credit  in your account\n"
     ]
    }
   ],
   "source": [
    "ac1.deposit()"
   ]
  },
  {
   "cell_type": "code",
   "execution_count": 7,
   "id": "de6636df",
   "metadata": {},
   "outputs": [
    {
     "name": "stdout",
     "output_type": "stream",
     "text": [
      "Enter the amount for withdraw2000\n",
      "Here is your  cash of Rs. 2000\n"
     ]
    }
   ],
   "source": [
    "ac1.withdraw()"
   ]
  },
  {
   "cell_type": "markdown",
   "id": "bffe847c",
   "metadata": {},
   "source": [
    "# A python program that creates a class called Bank with properties for banknames and branches. Include methods to add a branch,remove a branch,and display all branches. Create an instance of the bank class and perform operations to add remove branches"
   ]
  },
  {
   "cell_type": "code",
   "execution_count": 18,
   "id": "0d52561c",
   "metadata": {},
   "outputs": [],
   "source": [
    "class Bank:\n",
    "    def __init__(self,name,branches=[]):\n",
    "        self.name = name\n",
    "        self.branches = branches\n",
    "    def add_branch(self,branch_name):\n",
    "        if branch_name not in self.branches:\n",
    "            self.branches.append(branch_name)\n",
    "        else:\n",
    "            print(\"Branch Already Exist\")\n",
    "    def remove_branch(self,branch_name):\n",
    "        if branch_name in self.branches:\n",
    "            self.branches.remove(branch_name)\n",
    "        else:\n",
    "            print(\"Branch doesnot Exist\")\n",
    "            \n",
    "    def show_branches(self):\n",
    "        for branch in self.branches:\n",
    "            print(branch)\n",
    "            "
   ]
  },
  {
   "cell_type": "code",
   "execution_count": 19,
   "id": "c58a6243",
   "metadata": {},
   "outputs": [],
   "source": [
    "b1 = Bank('MYBank',['Main Branch'])\n",
    "b2 = Bank('MYBank',['Sharahe Faisal'])"
   ]
  },
  {
   "cell_type": "code",
   "execution_count": 20,
   "id": "a3bd1aa3",
   "metadata": {},
   "outputs": [
    {
     "name": "stdout",
     "output_type": "stream",
     "text": [
      "Main Branch\n"
     ]
    }
   ],
   "source": [
    "b1.show_branches()"
   ]
  },
  {
   "cell_type": "code",
   "execution_count": 21,
   "id": "67046f24",
   "metadata": {},
   "outputs": [
    {
     "name": "stdout",
     "output_type": "stream",
     "text": [
      "Sharahe Faisal\n"
     ]
    }
   ],
   "source": [
    "b2.show_branches()"
   ]
  },
  {
   "cell_type": "code",
   "execution_count": 22,
   "id": "6bfd4aa6",
   "metadata": {},
   "outputs": [
    {
     "name": "stdout",
     "output_type": "stream",
     "text": [
      "Branch Already Exist\n"
     ]
    }
   ],
   "source": [
    "b1.add_branch('Main Branch')"
   ]
  },
  {
   "cell_type": "code",
   "execution_count": 23,
   "id": "56bbb542",
   "metadata": {},
   "outputs": [],
   "source": [
    "b1.add_branch('Tariq Branch')"
   ]
  },
  {
   "cell_type": "code",
   "execution_count": 24,
   "id": "157d695d",
   "metadata": {},
   "outputs": [
    {
     "name": "stdout",
     "output_type": "stream",
     "text": [
      "Main Branch\n",
      "Tariq Branch\n"
     ]
    }
   ],
   "source": [
    "b1.show_branches()"
   ]
  },
  {
   "cell_type": "markdown",
   "id": "d186dfd3",
   "metadata": {},
   "source": [
    "# Write a python program that creates a class called BankAccount with properties for account number,account holder name,and balance. Include methods to deposit,withdraw and transfer money between accounts.Create multiple instances of the BankAccount class and perform operations such as depositing,withdrawing,and transferring money."
   ]
  },
  {
   "cell_type": "code",
   "execution_count": 133,
   "id": "9f4e9d9f",
   "metadata": {},
   "outputs": [],
   "source": [
    "class BankAccount():\n",
    "    lst_accounts = []\n",
    "#    number_of_accounts = 0\n",
    "    def __init__(self,account_number,account_holder_name,balance):\n",
    "        self.account_number = account_number\n",
    "        self.account_holder_name = account_holder_name\n",
    "        self.balance = balance \n",
    "  #      self.number_of_accounts+1\n",
    "    def deposit(self,amt):\n",
    "        self.balance += amt\n",
    "        print(f\"Rs.{amt} has been credit  in your account\")\n",
    "    def withdraw(self,amt):\n",
    "        if amt > self.balance:\n",
    "            print(\"Sorry! Insufficient Balance\")\n",
    "        else:\n",
    "            self.balance -= amt\n",
    "            print(f\"Here is your cash of Rs. {amt}\")\n",
    "    def transfer(self,amt,acc):\n",
    "        acc_exist =False\n",
    "        for a in BankAccount.lst_accounts:\n",
    "            if acc == a.account_number:\n",
    "                if self.account_number !=acc:\n",
    "                    if self.balance >=amt:\n",
    "                        self.balance-=amt\n",
    "                        a.balance+=amt\n",
    "                        print(\"Transcation Successful\")\n",
    "                        acc_exist=True\n",
    "                        break\n",
    "                    else:\n",
    "                        acc_exist=True\n",
    "                        print(\"Balance insufficient\")\n",
    "                else:\n",
    "                    acc_exist=True\n",
    "                    print(\"Same account transfer not allowed\")\n",
    "                    break\n",
    "                    \n",
    "        if acc_exist==False:\n",
    "            print(\"Account not found\")\n",
    "            \n",
    "            \n",
    "            \n",
    "              "
   ]
  },
  {
   "cell_type": "code",
   "execution_count": 134,
   "id": "acb4adb1",
   "metadata": {},
   "outputs": [],
   "source": [
    "a1 = BankAccount('1001','jamalhussain',10000)\n",
    "BankAccount.lst_accounts.append(a1)"
   ]
  },
  {
   "cell_type": "code",
   "execution_count": 135,
   "id": "58a582e1",
   "metadata": {},
   "outputs": [],
   "source": [
    "a2 = BankAccount('1002','mohidkhan',45000)\n",
    "BankAccount.lst_accounts.append(a2)"
   ]
  },
  {
   "cell_type": "code",
   "execution_count": 136,
   "id": "9ddcc548",
   "metadata": {},
   "outputs": [],
   "source": [
    "a3 = BankAccount('1003','hamza',65000)\n",
    "BankAccount.lst_accounts.append(a3)"
   ]
  },
  {
   "cell_type": "code",
   "execution_count": 137,
   "id": "5c4338ab",
   "metadata": {},
   "outputs": [
    {
     "name": "stdout",
     "output_type": "stream",
     "text": [
      "Balance insufficient\n"
     ]
    }
   ],
   "source": [
    "a1.transfer(12000,'1003')"
   ]
  },
  {
   "cell_type": "code",
   "execution_count": 138,
   "id": "5f580bd8",
   "metadata": {},
   "outputs": [
    {
     "name": "stdout",
     "output_type": "stream",
     "text": [
      "Same account transfer not allowed\n"
     ]
    }
   ],
   "source": [
    "a1.transfer(1000,'1001')"
   ]
  },
  {
   "cell_type": "code",
   "execution_count": null,
   "id": "4719b046",
   "metadata": {},
   "outputs": [],
   "source": []
  }
 ],
 "metadata": {
  "kernelspec": {
   "display_name": "Python 3 (ipykernel)",
   "language": "python",
   "name": "python3"
  },
  "language_info": {
   "codemirror_mode": {
    "name": "ipython",
    "version": 3
   },
   "file_extension": ".py",
   "mimetype": "text/x-python",
   "name": "python",
   "nbconvert_exporter": "python",
   "pygments_lexer": "ipython3",
   "version": "3.11.5"
  }
 },
 "nbformat": 4,
 "nbformat_minor": 5
}
