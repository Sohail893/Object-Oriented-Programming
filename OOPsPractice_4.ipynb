{
 "cells": [
  {
   "cell_type": "code",
   "execution_count": 9,
   "id": "d5df27a7",
   "metadata": {},
   "outputs": [
    {
     "name": "stdout",
     "output_type": "stream",
     "text": [
      "Kababji\n",
      "chinese\n",
      "The resturant name is Kababji\n",
      "The resturant cuisine type is chinese\n",
      "Resturant is open now\n",
      "0\n",
      "20\n",
      "21\n"
     ]
    }
   ],
   "source": [
    "class Restaurant():\n",
    "    def __init__(self,restaurant_name,cuisine_type):\n",
    "        self.restaurant_name = restaurant_name\n",
    "        self.cuisine_type = cuisine_type\n",
    "        self.number_served = 0\n",
    "        \n",
    "    def describe_restaurant(self):\n",
    "        print(f\"The resturant name is {self.restaurant_name}\")\n",
    "        print(f\"The resturant cuisine type is {self.cuisine_type}\")\n",
    "        \n",
    "    def open(self):\n",
    "        print(\"Resturant is open now\")\n",
    "        \n",
    "    def get_number_served(self):\n",
    "        print(self.number_served)\n",
    "    def set_number_served(self,newnumber):\n",
    "        self.number_served = newnumber\n",
    "    def increment_number_served(self):\n",
    "        self.number_served +=1\n",
    "        \n",
    "restaurant = Restaurant('Kababji','chinese')\n",
    "print(restaurant.restaurant_name)\n",
    "print(restaurant.cuisine_type)\n",
    "restaurant.describe_restaurant()\n",
    "restaurant.open()\n",
    "restaurant.get_number_served()\n",
    "restaurant.set_number_served(20)\n",
    "restaurant.get_number_served()\n",
    "restaurant.increment_number_served()\n",
    "restaurant.get_number_served()\n",
    "        \n",
    "        "
   ]
  },
  {
   "cell_type": "code",
   "execution_count": 27,
   "id": "e0531202",
   "metadata": {},
   "outputs": [],
   "source": [
    "class IceCreamStand(Restaurant):\n",
    "    def __init__(self,name,cuisine_type,*flavours):\n",
    "        super().__init__(name,cuisine_type)\n",
    "        self.number_served = 0\n",
    "        self.flavours = flavours\n",
    "        \n",
    "    def display_flavours(self):\n",
    "        for i, flavour in enumerate(self.flavours):\n",
    "            print(i,flavour)"
   ]
  },
  {
   "cell_type": "code",
   "execution_count": 28,
   "id": "16f3ae85",
   "metadata": {},
   "outputs": [],
   "source": [
    "ice = IceCreamStand('ScopIn','Gelato','chocolate','strewberry','vanial','pista','crunch')"
   ]
  },
  {
   "cell_type": "code",
   "execution_count": 29,
   "id": "cb18b906",
   "metadata": {},
   "outputs": [
    {
     "name": "stdout",
     "output_type": "stream",
     "text": [
      "0 chocolate\n",
      "1 strewberry\n",
      "2 vanial\n",
      "3 pista\n",
      "4 crunch\n"
     ]
    }
   ],
   "source": [
    "ice.display_flavours()"
   ]
  },
  {
   "cell_type": "markdown",
   "id": "988e3ffc",
   "metadata": {},
   "source": [
    "# Polymorphism"
   ]
  },
  {
   "cell_type": "markdown",
   "id": "94adecec",
   "metadata": {},
   "source": [
    "# Polymorphism in Class Methods"
   ]
  },
  {
   "cell_type": "code",
   "execution_count": 30,
   "id": "86a92712",
   "metadata": {},
   "outputs": [
    {
     "name": "stdout",
     "output_type": "stream",
     "text": [
      "Meow\n",
      "I am a cat.My name is kitty. I am 2.5 years old\n",
      "Meow\n",
      "Bark\n",
      "I am a dog.My name is Fluffy. I am 4 years old\n",
      "Bark\n"
     ]
    }
   ],
   "source": [
    "class Cat:\n",
    "    def __init__(self,name,age):\n",
    "        self.name = name\n",
    "        self.age = age\n",
    "        \n",
    "    def info(self):\n",
    "        print(f\"I am a cat.My name is {self.name}. I am {self.age} years old\")\n",
    "        \n",
    "    def make_sound(self):\n",
    "        print(\"Meow\")\n",
    "        \n",
    "class Dog:\n",
    "    def __init__(self,name,age):\n",
    "        self.name = name\n",
    "        self.age = age\n",
    "        \n",
    "    def info(self):\n",
    "        print(f\"I am a dog.My name is {self.name}. I am {self.age} years old\")\n",
    "        \n",
    "    def make_sound(self):\n",
    "        print(\"Bark\")\n",
    "cat1 = Cat('kitty',2.5)\n",
    "dog1 = Dog('Fluffy',4)\n",
    "\n",
    "for animal in (cat1,dog1):\n",
    "    animal.make_sound()\n",
    "    animal.info()\n",
    "    animal.make_sound()\n",
    "        \n",
    "        "
   ]
  },
  {
   "cell_type": "markdown",
   "id": "1b0af942",
   "metadata": {},
   "source": [
    "# Polymorphism and Inheritance"
   ]
  },
  {
   "cell_type": "code",
   "execution_count": 31,
   "id": "1f727435",
   "metadata": {},
   "outputs": [],
   "source": [
    "def add(a,b):\n",
    "    return a,b\n"
   ]
  },
  {
   "cell_type": "code",
   "execution_count": 32,
   "id": "401bba24",
   "metadata": {},
   "outputs": [],
   "source": [
    "def add(a,b,c):\n",
    "    return a,b,c"
   ]
  },
  {
   "cell_type": "code",
   "execution_count": 33,
   "id": "aaefad47",
   "metadata": {},
   "outputs": [
    {
     "ename": "TypeError",
     "evalue": "add() missing 1 required positional argument: 'c'",
     "output_type": "error",
     "traceback": [
      "\u001b[1;31m---------------------------------------------------------------------------\u001b[0m",
      "\u001b[1;31mTypeError\u001b[0m                                 Traceback (most recent call last)",
      "Cell \u001b[1;32mIn[33], line 1\u001b[0m\n\u001b[1;32m----> 1\u001b[0m add(\u001b[38;5;241m1\u001b[39m,\u001b[38;5;241m3\u001b[39m)\n",
      "\u001b[1;31mTypeError\u001b[0m: add() missing 1 required positional argument: 'c'"
     ]
    }
   ],
   "source": [
    "add(1,3)"
   ]
  },
  {
   "cell_type": "code",
   "execution_count": 34,
   "id": "c7a66ea6",
   "metadata": {},
   "outputs": [
    {
     "name": "stdout",
     "output_type": "stream",
     "text": [
      "Restaurant: Pakistani Biryani, Cuisine: Desi\n"
     ]
    }
   ],
   "source": [
    "class Restaurant:\n",
    "    def __init__(self, name, cuisine):\n",
    "        self.name = name\n",
    "        self.cuisine = cuisine\n",
    "\n",
    "    def __str__(self):\n",
    "        return f\"Restaurant: {self.name}, Cuisine: {self.cuisine}\"\n",
    "\n",
    "restaurant1 = Restaurant(\"Pakistani Biryani\", \"Desi\")\n",
    "print(restaurant1)  # `__str__` method call hoga"
   ]
  },
  {
   "cell_type": "code",
   "execution_count": 54,
   "id": "8de85256",
   "metadata": {},
   "outputs": [],
   "source": [
    "from math import pi\n",
    "class Shape:\n",
    "    def __init__(self,name):\n",
    "        self.name = name\n",
    "        \n",
    "    def area(self):\n",
    "        pass\n",
    "    def fact(self):\n",
    "        return \"I am a two-dimensional shape\"\n",
    "    \n",
    "    def __str__(self):\n",
    "        return self.name"
   ]
  },
  {
   "cell_type": "code",
   "execution_count": 55,
   "id": "f9297951",
   "metadata": {},
   "outputs": [],
   "source": [
    "class Square(Shape):\n",
    "    def __init__(self,length):\n",
    "        super().__init__(\"Square\")\n",
    "        self.length = length\n",
    "        \n",
    "    def area(self):\n",
    "        return self.length**2\n",
    "    def fact(self):\n",
    "        return \"Squares have each angle equal to 90 degree\""
   ]
  },
  {
   "cell_type": "code",
   "execution_count": 64,
   "id": "9c85493e",
   "metadata": {},
   "outputs": [],
   "source": [
    "class Circle(Shape):\n",
    "    def __init__(self,radius):\n",
    "        super().__init__('Circle')\n",
    "        self.radius = radius\n",
    "            \n",
    "    def area(self):\n",
    "        return pi*self.radius**2\n",
    "    def fact(self):\n",
    "        return \"A circle has no corners\""
   ]
  },
  {
   "cell_type": "code",
   "execution_count": 65,
   "id": "e1fbefef",
   "metadata": {},
   "outputs": [],
   "source": [
    "shape1 = Shape('Rectangle')"
   ]
  },
  {
   "cell_type": "code",
   "execution_count": 66,
   "id": "714b6f77",
   "metadata": {},
   "outputs": [],
   "source": [
    "shape1.area()"
   ]
  },
  {
   "cell_type": "code",
   "execution_count": 67,
   "id": "17dac41b",
   "metadata": {},
   "outputs": [
    {
     "data": {
      "text/plain": [
       "'I am a two-dimensional shape'"
      ]
     },
     "execution_count": 67,
     "metadata": {},
     "output_type": "execute_result"
    }
   ],
   "source": [
    "shape1.fact()"
   ]
  },
  {
   "cell_type": "code",
   "execution_count": 68,
   "id": "64d882dd",
   "metadata": {},
   "outputs": [
    {
     "data": {
      "text/plain": [
       "'Squares have each angle equal to 90 degree'"
      ]
     },
     "execution_count": 68,
     "metadata": {},
     "output_type": "execute_result"
    }
   ],
   "source": [
    "sqarue1 = Square(20)\n",
    "sqarue1.area()\n",
    "sqarue1.fact()"
   ]
  },
  {
   "cell_type": "code",
   "execution_count": 69,
   "id": "ee229701",
   "metadata": {},
   "outputs": [
    {
     "data": {
      "text/plain": [
       "'A circle has no corners'"
      ]
     },
     "execution_count": 69,
     "metadata": {},
     "output_type": "execute_result"
    }
   ],
   "source": [
    "circle1 = Circle(12)\n",
    "circle1.area()\n",
    "circle1.fact()"
   ]
  },
  {
   "cell_type": "code",
   "execution_count": 71,
   "id": "339715a7",
   "metadata": {},
   "outputs": [
    {
     "name": "stdout",
     "output_type": "stream",
     "text": [
      "Circle\n",
      "Square\n",
      "Rectangle\n"
     ]
    }
   ],
   "source": [
    "print(circle1)\n",
    "print(sqarue1)\n",
    "print(shape1)"
   ]
  },
  {
   "cell_type": "code",
   "execution_count": 49,
   "id": "676e5ec9",
   "metadata": {},
   "outputs": [],
   "source": [
    "class abc():\n",
    "    pass"
   ]
  },
  {
   "cell_type": "code",
   "execution_count": 50,
   "id": "6ca831fb",
   "metadata": {},
   "outputs": [],
   "source": [
    "a = abc()"
   ]
  },
  {
   "cell_type": "code",
   "execution_count": 51,
   "id": "7e1e1515",
   "metadata": {},
   "outputs": [
    {
     "name": "stdout",
     "output_type": "stream",
     "text": [
      "<__main__.abc object at 0x0000022CF04E9BD0>\n"
     ]
    }
   ],
   "source": [
    "print(a)"
   ]
  },
  {
   "cell_type": "code",
   "execution_count": null,
   "id": "f77db951",
   "metadata": {},
   "outputs": [],
   "source": [
    " "
   ]
  }
 ],
 "metadata": {
  "kernelspec": {
   "display_name": "Python 3 (ipykernel)",
   "language": "python",
   "name": "python3"
  },
  "language_info": {
   "codemirror_mode": {
    "name": "ipython",
    "version": 3
   },
   "file_extension": ".py",
   "mimetype": "text/x-python",
   "name": "python",
   "nbconvert_exporter": "python",
   "pygments_lexer": "ipython3",
   "version": "3.11.5"
  }
 },
 "nbformat": 4,
 "nbformat_minor": 5
}
