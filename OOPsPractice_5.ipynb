{
 "cells": [
  {
   "cell_type": "markdown",
   "id": "4833823b",
   "metadata": {},
   "source": [
    "# Class variable(static variable) and instance variables"
   ]
  },
  {
   "cell_type": "code",
   "execution_count": 1,
   "id": "32efffea",
   "metadata": {},
   "outputs": [],
   "source": [
    "class Car:\n",
    "    # static or class level variable\n",
    "    wheels = 4\n",
    "    def __init__(self):\n",
    "    # non-static\n",
    "        self.mileage = 10\n",
    "        self.company = \"BMW\""
   ]
  },
  {
   "cell_type": "code",
   "execution_count": 3,
   "id": "49454fd4",
   "metadata": {},
   "outputs": [],
   "source": [
    "c1 = Car()\n",
    "c2 = Car()"
   ]
  },
  {
   "cell_type": "code",
   "execution_count": 4,
   "id": "8c421221",
   "metadata": {},
   "outputs": [
    {
     "name": "stdout",
     "output_type": "stream",
     "text": [
      "4\n"
     ]
    }
   ],
   "source": [
    "#since wheel is a class level variable can be accessed using class name\n",
    "print(Car.wheels)"
   ]
  },
  {
   "cell_type": "code",
   "execution_count": 5,
   "id": "c9a7d698",
   "metadata": {},
   "outputs": [
    {
     "ename": "AttributeError",
     "evalue": "type object 'Car' has no attribute 'mileage'",
     "output_type": "error",
     "traceback": [
      "\u001b[1;31m---------------------------------------------------------------------------\u001b[0m",
      "\u001b[1;31mAttributeError\u001b[0m                            Traceback (most recent call last)",
      "Cell \u001b[1;32mIn[5], line 1\u001b[0m\n\u001b[1;32m----> 1\u001b[0m Car\u001b[38;5;241m.\u001b[39mmileage()\n",
      "\u001b[1;31mAttributeError\u001b[0m: type object 'Car' has no attribute 'mileage'"
     ]
    }
   ],
   "source": [
    "Car.mileage()"
   ]
  },
  {
   "cell_type": "code",
   "execution_count": 6,
   "id": "0ba93da7",
   "metadata": {},
   "outputs": [
    {
     "name": "stdout",
     "output_type": "stream",
     "text": [
      "4\n"
     ]
    }
   ],
   "source": [
    "print(c1.wheels)"
   ]
  },
  {
   "cell_type": "code",
   "execution_count": 8,
   "id": "61886bb3",
   "metadata": {},
   "outputs": [
    {
     "data": {
      "text/plain": [
       "10"
      ]
     },
     "execution_count": 8,
     "metadata": {},
     "output_type": "execute_result"
    }
   ],
   "source": [
    "c1.mileage"
   ]
  },
  {
   "cell_type": "code",
   "execution_count": 9,
   "id": "901a1ef7",
   "metadata": {},
   "outputs": [
    {
     "data": {
      "text/plain": [
       "4"
      ]
     },
     "execution_count": 9,
     "metadata": {},
     "output_type": "execute_result"
    }
   ],
   "source": [
    "# since wheel is a class level variable, can be accesses using class name as well as objec\n",
    "c1.wheels "
   ]
  },
  {
   "cell_type": "code",
   "execution_count": 10,
   "id": "6a41f2dc",
   "metadata": {},
   "outputs": [],
   "source": [
    "#class level variable is updated using class,will updated for every object\n",
    "Car.wheels = 5"
   ]
  },
  {
   "cell_type": "code",
   "execution_count": 11,
   "id": "9d14e804",
   "metadata": {},
   "outputs": [
    {
     "data": {
      "text/plain": [
       "(5, 5, 5)"
      ]
     },
     "execution_count": 11,
     "metadata": {},
     "output_type": "execute_result"
    }
   ],
   "source": [
    "Car.wheels, c1.wheels, c2.wheels"
   ]
  },
  {
   "cell_type": "code",
   "execution_count": 12,
   "id": "2266133c",
   "metadata": {},
   "outputs": [],
   "source": [
    "c1.wheels = 6"
   ]
  },
  {
   "cell_type": "code",
   "execution_count": 13,
   "id": "806629f7",
   "metadata": {},
   "outputs": [
    {
     "data": {
      "text/plain": [
       "(5, 6, 5)"
      ]
     },
     "execution_count": 13,
     "metadata": {},
     "output_type": "execute_result"
    }
   ],
   "source": [
    "Car.wheels,c1.wheels,c2.wheels"
   ]
  },
  {
   "cell_type": "code",
   "execution_count": 14,
   "id": "bb8312d9",
   "metadata": {},
   "outputs": [],
   "source": [
    "Car.wheels = 10"
   ]
  },
  {
   "cell_type": "code",
   "execution_count": 15,
   "id": "cafd655d",
   "metadata": {},
   "outputs": [
    {
     "data": {
      "text/plain": [
       "(10, 6, 10)"
      ]
     },
     "execution_count": 15,
     "metadata": {},
     "output_type": "execute_result"
    }
   ],
   "source": [
    "Car.wheels , c1.wheels,c2.wheels"
   ]
  },
  {
   "cell_type": "code",
   "execution_count": 16,
   "id": "2ecce489",
   "metadata": {},
   "outputs": [],
   "source": [
    "c1.owner = \"Adullah\""
   ]
  },
  {
   "cell_type": "code",
   "execution_count": 17,
   "id": "bbc2fccb",
   "metadata": {},
   "outputs": [],
   "source": [
    "Car.color = \"Red\""
   ]
  },
  {
   "cell_type": "code",
   "execution_count": 20,
   "id": "5b6ed03c",
   "metadata": {},
   "outputs": [
    {
     "data": {
      "text/plain": [
       "('Red', 'Red', 'Red')"
      ]
     },
     "execution_count": 20,
     "metadata": {},
     "output_type": "execute_result"
    }
   ],
   "source": [
    "Car.color,c1.color,c2.color"
   ]
  },
  {
   "cell_type": "markdown",
   "id": "b770a890",
   "metadata": {},
   "source": [
    "# Class methods , Instance methods, static methods\n",
    "- Class methods  and static methods are not same"
   ]
  },
  {
   "cell_type": "code",
   "execution_count": 21,
   "id": "de48f79f",
   "metadata": {},
   "outputs": [],
   "source": [
    "class Student:\n",
    "    school = \"SSUET\"\n",
    "    def __init__(self,m1,m2,m3):\n",
    "        self.m1 = m1\n",
    "        self.m2 = m2\n",
    "        self.m3 = m3\n",
    "     #instance methods   \n",
    "    def avg(self):\n",
    "        return (self.m1 +self.m2 +self.m3)/3\n",
    "    def information(self):\n",
    "        return self.school"
   ]
  },
  {
   "cell_type": "code",
   "execution_count": 22,
   "id": "2480cb5d",
   "metadata": {},
   "outputs": [
    {
     "name": "stdout",
     "output_type": "stream",
     "text": [
      "92.33333333333333\n",
      "80.0\n",
      "SSUET\n",
      "SSUET\n"
     ]
    },
    {
     "ename": "TypeError",
     "evalue": "Student.information() missing 1 required positional argument: 'self'",
     "output_type": "error",
     "traceback": [
      "\u001b[1;31m---------------------------------------------------------------------------\u001b[0m",
      "\u001b[1;31mTypeError\u001b[0m                                 Traceback (most recent call last)",
      "Cell \u001b[1;32mIn[22], line 12\u001b[0m\n\u001b[0;32m      9\u001b[0m \u001b[38;5;28mprint\u001b[39m(Student\u001b[38;5;241m.\u001b[39minformation(s2))\n\u001b[0;32m     11\u001b[0m \u001b[38;5;66;03m#instance method called using class name>>error\u001b[39;00m\n\u001b[1;32m---> 12\u001b[0m \u001b[38;5;28mprint\u001b[39m(Student\u001b[38;5;241m.\u001b[39minformation())\n\u001b[0;32m     13\u001b[0m \u001b[38;5;28mprint\u001b[39m(Student\u001b[38;5;241m.\u001b[39mavg())\n",
      "\u001b[1;31mTypeError\u001b[0m: Student.information() missing 1 required positional argument: 'self'"
     ]
    }
   ],
   "source": [
    "s1 = Student(89,98,90)\n",
    "s2 = Student(80,90,70)\n",
    "#instance methods called using instance s1\n",
    "print(s1.avg())\n",
    "#instance methods called using instance s2\n",
    "print(s2.avg())\n",
    "#instance method called using class name but instance is passed a argument\n",
    "print(Student.information(s1))\n",
    "print(Student.information(s2))\n",
    "\n",
    "#instance method called using class name>>error\n",
    "print(Student.information())\n",
    "print(Student.avg())\n"
   ]
  },
  {
   "cell_type": "code",
   "execution_count": 23,
   "id": "8f65b2a5",
   "metadata": {},
   "outputs": [],
   "source": [
    "class Student:\n",
    "    school = \"SSUET\"\n",
    "    def __init__(self,m1,m2,m3):\n",
    "        self.m1 = m1\n",
    "        self.m2 = m2\n",
    "        self.m3 = m3\n",
    "    def avg(self):\n",
    "        return (self.m1+self.m2+self.m3)/3\n",
    "    @classmethod\n",
    "    def information(c):\n",
    "        return c.school"
   ]
  },
  {
   "cell_type": "code",
   "execution_count": 24,
   "id": "26a1163a",
   "metadata": {},
   "outputs": [
    {
     "name": "stdout",
     "output_type": "stream",
     "text": [
      "SSUET\n"
     ]
    }
   ],
   "source": [
    "#class method is called using class name\n",
    "print(Student.information())"
   ]
  },
  {
   "cell_type": "markdown",
   "id": "5bb9ee2b",
   "metadata": {},
   "source": [
    "# Static Methods\n",
    "- static methods are methods that donot require instance or class"
   ]
  },
  {
   "cell_type": "code",
   "execution_count": 5,
   "id": "a4822757",
   "metadata": {},
   "outputs": [],
   "source": [
    "class Student:\n",
    "    school = \"SSUET\"\n",
    "    def __init__(self,m1,m2,m3):\n",
    "        self.m1 = m1\n",
    "        self.m2 = m2\n",
    "        self.m3 = m3\n",
    "    def avg(self):\n",
    "        return (self.m1+self.m2+self.m3)/3\n",
    "    @classmethod\n",
    "    def information(c):\n",
    "        return c.school\n",
    "    @staticmethod\n",
    "    def hello():\n",
    "        print(\"Im a static method\")"
   ]
  },
  {
   "cell_type": "code",
   "execution_count": 6,
   "id": "949e4a01",
   "metadata": {},
   "outputs": [],
   "source": [
    "s4 = Student(23,24,25)"
   ]
  },
  {
   "cell_type": "code",
   "execution_count": 7,
   "id": "85959478",
   "metadata": {},
   "outputs": [
    {
     "name": "stdout",
     "output_type": "stream",
     "text": [
      "Im a static method\n"
     ]
    }
   ],
   "source": [
    "s4.hello()"
   ]
  },
  {
   "cell_type": "code",
   "execution_count": 8,
   "id": "95256d28",
   "metadata": {},
   "outputs": [
    {
     "name": "stdout",
     "output_type": "stream",
     "text": [
      "Im a static method\n"
     ]
    }
   ],
   "source": [
    "Student.hello()"
   ]
  },
  {
   "cell_type": "code",
   "execution_count": 15,
   "id": "c04ccdc0",
   "metadata": {},
   "outputs": [],
   "source": [
    "class Battery():\n",
    "    def __init__(self,manuf,cell,weight,amp,watt,price):\n",
    "        self.manuf = manuf\n",
    "        self.cell = cell\n",
    "        self.weight = weight \n",
    "        self.amp = amp\n",
    "        self.watt = watt\n",
    "        self.price = price\n",
    "        "
   ]
  },
  {
   "cell_type": "code",
   "execution_count": 18,
   "id": "53fff145",
   "metadata": {},
   "outputs": [],
   "source": [
    "class ElectricCar:\n",
    "    def __init__(self,make,model,year,engine):\n",
    "        self.make = make\n",
    "        self.model = model \n",
    "        self.year = year\n",
    "        self.engine = engine\n",
    "        #instance used as attributes\n",
    "        self.battery = Battery(\"Osaka\",27,60,200,12,60000)\n",
    "    def carruns(self):\n",
    "        pass\n",
    "    def carstop(self):\n",
    "        pass\n",
    "        "
   ]
  },
  {
   "cell_type": "code",
   "execution_count": 19,
   "id": "b7b09d24",
   "metadata": {},
   "outputs": [
    {
     "data": {
      "text/plain": [
       "60000"
      ]
     },
     "execution_count": 19,
     "metadata": {},
     "output_type": "execute_result"
    }
   ],
   "source": [
    "e = ElectricCar(\"honda\",2024,2024,2000)\n",
    "e.battery.price\n"
   ]
  },
  {
   "cell_type": "markdown",
   "id": "3bb3bf6a",
   "metadata": {},
   "source": [
    "# Inner Classes\n",
    "- Class inside a class is called inner class"
   ]
  },
  {
   "cell_type": "code",
   "execution_count": 11,
   "id": "c5916dfc",
   "metadata": {},
   "outputs": [
    {
     "name": "stdout",
     "output_type": "stream",
     "text": [
      "Nasir 2\n",
      "Hassan 3\n"
     ]
    }
   ],
   "source": [
    "class Student:\n",
    "    def __init__(self,name,rollno):\n",
    "        self.name = name\n",
    "        self.rollno = rollno\n",
    "    def show(self):\n",
    "        print(self.name,self.rollno)\n",
    "s1 =Student(\"Nasir\",2)\n",
    "s2 =Student(\"Hassan\",3)\n",
    "s1.show()\n",
    "s2.show()"
   ]
  },
  {
   "cell_type": "markdown",
   "id": "7cff3e6d",
   "metadata": {},
   "source": [
    "Case: A student in IT class must have laptop\n",
    "so there is an attributes of laptop for student"
   ]
  },
  {
   "cell_type": "code",
   "execution_count": 1,
   "id": "00293b6f",
   "metadata": {},
   "outputs": [
    {
     "name": "stdout",
     "output_type": "stream",
     "text": [
      "Nasir 2 HP\n",
      "Hassan 3 Lenovo\n"
     ]
    }
   ],
   "source": [
    "class Student:\n",
    "    def __init__(self,name,rollno,laptop):\n",
    "        self.name = name\n",
    "        self.rollno = rollno\n",
    "        self.laptop = laptop\n",
    "        \n",
    "    def show(self):\n",
    "        print(self.name,self.rollno,self.laptop)\n",
    "        \n",
    "s1 = Student('Nasir',2,\"HP\")\n",
    "s2 = Student('Hassan',3,\"Lenovo\")\n",
    "\n",
    "s1.show()\n",
    "s2.show()"
   ]
  },
  {
   "cell_type": "markdown",
   "id": "e5cb8e8a",
   "metadata": {},
   "source": [
    "# Instance as attribute\n",
    "- A class outside the class,its instance can be used in another class"
   ]
  },
  {
   "cell_type": "code",
   "execution_count": 2,
   "id": "1f9f00fd",
   "metadata": {},
   "outputs": [],
   "source": [
    "class Laptop:\n",
    "    def __init__(self,brand,cpu,ram):\n",
    "        self.brand = brand\n",
    "        self.cpu = cpu\n",
    "        self.ram = ram\n",
    "        \n",
    "    def show(self):\n",
    "        print(self.brand,self.cpu,self.ram)"
   ]
  },
  {
   "cell_type": "code",
   "execution_count": 4,
   "id": "2c2c2dbc",
   "metadata": {},
   "outputs": [
    {
     "name": "stdout",
     "output_type": "stream",
     "text": [
      "Nasir 2\n",
      "Hp Corei7 16\n",
      "Nasir 2\n",
      "Hp Corei7 16\n"
     ]
    }
   ],
   "source": [
    "class Student:\n",
    "    def __init__(self,name,rollno):\n",
    "        self.name = name\n",
    "        self.rollno = rollno\n",
    "        self.laptop = Laptop(\"Hp\",\"Corei7\",16)\n",
    "        \n",
    "    def show(self):\n",
    "        print(self.name,self.rollno)\n",
    "        self.laptop.show()\n",
    "        \n",
    "s1 = Student('Nasir',2)\n",
    "s2 =Student('Hassan',3)\n",
    "s1.show()\n",
    "s1.show()"
   ]
  },
  {
   "cell_type": "markdown",
   "id": "89ff375f",
   "metadata": {},
   "source": [
    "# Inner Class\n",
    "- A class created inside a class is called inner"
   ]
  },
  {
   "cell_type": "code",
   "execution_count": 12,
   "id": "75b13951",
   "metadata": {},
   "outputs": [
    {
     "ename": "TypeError",
     "evalue": "Student() takes no arguments",
     "output_type": "error",
     "traceback": [
      "\u001b[1;31m---------------------------------------------------------------------------\u001b[0m",
      "\u001b[1;31mTypeError\u001b[0m                                 Traceback (most recent call last)",
      "Cell \u001b[1;32mIn[12], line 18\u001b[0m\n\u001b[0;32m     16\u001b[0m         \u001b[38;5;28;01mdef\u001b[39;00m \u001b[38;5;21mshow\u001b[39m(\u001b[38;5;28mself\u001b[39m):\n\u001b[0;32m     17\u001b[0m             \u001b[38;5;28mprint\u001b[39m(\u001b[38;5;28mself\u001b[39m\u001b[38;5;241m.\u001b[39mbrand,\u001b[38;5;28mself\u001b[39m\u001b[38;5;241m.\u001b[39mcpu,\u001b[38;5;28mself\u001b[39m\u001b[38;5;241m.\u001b[39mram)\n\u001b[1;32m---> 18\u001b[0m s1 \u001b[38;5;241m=\u001b[39m Student(\u001b[38;5;124m'\u001b[39m\u001b[38;5;124mNasir\u001b[39m\u001b[38;5;124m'\u001b[39m,\u001b[38;5;241m2\u001b[39m)\n\u001b[0;32m     19\u001b[0m s2 \u001b[38;5;241m=\u001b[39m Student(\u001b[38;5;124m'\u001b[39m\u001b[38;5;124mHassan\u001b[39m\u001b[38;5;124m'\u001b[39m,\u001b[38;5;241m3\u001b[39m)\n\u001b[0;32m     20\u001b[0m s1\u001b[38;5;241m.\u001b[39mshow()\n",
      "\u001b[1;31mTypeError\u001b[0m: Student() takes no arguments"
     ]
    }
   ],
   "source": [
    "class Student:\n",
    "    def __init_(self,name,rollno):\n",
    "        self.name = name\n",
    "        self.rollno = rollno\n",
    "        self.laptop = self.Laptop('Hp','i7','16Gb')\n",
    "        \n",
    "    def show(self):\n",
    "        print(self.name,self.rollno)\n",
    "        self.laptop.show()\n",
    "        \n",
    "    class Laptop:\n",
    "        def __init__(self,brand,cpu,ram):\n",
    "            self.brand = brand\n",
    "            self.cpu = cpu\n",
    "            self.ram = ram\n",
    "        def show(self):\n",
    "            print(self.brand,self.cpu,self.ram)\n",
    "s1 = Student('Nasir',2)\n",
    "s2 = Student('Hassan',3)\n",
    "s1.show()\n",
    "s2.show()"
   ]
  },
  {
   "cell_type": "code",
   "execution_count": 13,
   "id": "6a999876",
   "metadata": {},
   "outputs": [
    {
     "name": "stdout",
     "output_type": "stream",
     "text": [
      "Hp Corei7 16\n"
     ]
    }
   ],
   "source": [
    "s1.laptop.show()"
   ]
  },
  {
   "cell_type": "markdown",
   "id": "bd0b7c36",
   "metadata": {},
   "source": [
    "# Inheritance"
   ]
  },
  {
   "cell_type": "code",
   "execution_count": 25,
   "id": "60bddb91",
   "metadata": {},
   "outputs": [],
   "source": [
    "class A:\n",
    "    def feature1(self):\n",
    "        print(\"feature1 is working\")\n",
    "    def feature2(self):\n",
    "        print(\"feature2 is working\")"
   ]
  },
  {
   "cell_type": "code",
   "execution_count": 26,
   "id": "366c1dd7",
   "metadata": {},
   "outputs": [],
   "source": [
    "a1 =A()"
   ]
  },
  {
   "cell_type": "code",
   "execution_count": 27,
   "id": "3e1d38a8",
   "metadata": {},
   "outputs": [
    {
     "name": "stdout",
     "output_type": "stream",
     "text": [
      "feature1 is working\n"
     ]
    }
   ],
   "source": [
    "a1.feature1()"
   ]
  },
  {
   "cell_type": "code",
   "execution_count": 28,
   "id": "05059da8",
   "metadata": {},
   "outputs": [
    {
     "name": "stdout",
     "output_type": "stream",
     "text": [
      "feature3 is working\n",
      "feature4 is working\n",
      "feature2 is working\n",
      "feature1 is working\n"
     ]
    }
   ],
   "source": [
    "class B(A):\n",
    "    def feature3(self):\n",
    "        print(\"feature3 is working\")\n",
    "    def feature4(self):\n",
    "        print(\"feature4 is working\")\n",
    "b1 = B()\n",
    "b1.feature3()\n",
    "b1.feature4()\n",
    "b1.feature2()\n",
    "b1.feature1()"
   ]
  },
  {
   "cell_type": "code",
   "execution_count": 29,
   "id": "433dded6",
   "metadata": {},
   "outputs": [
    {
     "name": "stdout",
     "output_type": "stream",
     "text": [
      "feature1 is working\n",
      "feature2 is working\n",
      "feature3 is working\n",
      "feature4 is working\n",
      "feature5 is working\n",
      "feature6 is working\n"
     ]
    }
   ],
   "source": [
    "class C(B):\n",
    "    def feature5(self):\n",
    "        print(\"feature5 is working\")\n",
    "    def feature6(self):\n",
    "        print(\"feature6 is working\")\n",
    "        \n",
    "c1 = C()\n",
    "c1.feature1()\n",
    "c1.feature2()\n",
    "c1.feature3()\n",
    "c1.feature4() \n",
    "c1.feature5()\n",
    "c1.feature6()"
   ]
  },
  {
   "cell_type": "markdown",
   "id": "be4a3da4",
   "metadata": {},
   "source": [
    "# Mutiple Inheritance:"
   ]
  },
  {
   "cell_type": "code",
   "execution_count": 31,
   "id": "a4273ebc",
   "metadata": {},
   "outputs": [
    {
     "name": "stdout",
     "output_type": "stream",
     "text": [
      "feature1 is working\n",
      "feature2 is working\n"
     ]
    }
   ],
   "source": [
    "class A:\n",
    "    def feature1(self):\n",
    "        print(\"feature1 is working\")\n",
    "    def feature2(self):\n",
    "        print(\"feature2 is working\")\n",
    "        \n",
    "a1 = A()\n",
    "a1.feature1()\n",
    "a1.feature2()\n"
   ]
  },
  {
   "cell_type": "code",
   "execution_count": 32,
   "id": "432a7873",
   "metadata": {},
   "outputs": [
    {
     "name": "stdout",
     "output_type": "stream",
     "text": [
      "feature3 is working\n",
      "feature4 is working\n"
     ]
    }
   ],
   "source": [
    "class B:\n",
    "    def feature3(self):\n",
    "        print(\"feature3 is working\")\n",
    "    def feature4(self):\n",
    "        print(\"feature4 is working\")\n",
    "        \n",
    "b1 = B()\n",
    "b1.feature3()\n",
    "b1.feature4()"
   ]
  },
  {
   "cell_type": "code",
   "execution_count": 33,
   "id": "801f3e74",
   "metadata": {},
   "outputs": [
    {
     "name": "stdout",
     "output_type": "stream",
     "text": [
      "feature1 is working\n",
      "feature2 is working\n",
      "feature3 is working\n",
      "feature4 is working\n",
      "feature5 is working\n"
     ]
    }
   ],
   "source": [
    "class C(A,B):\n",
    "    def feature5(self):\n",
    "        print(\"feature5 is working\")\n",
    "c1 =C()\n",
    "c1.feature1()\n",
    "c1.feature2()\n",
    "c1.feature3()\n",
    "c1.feature4()\n",
    "c1.feature5()\n"
   ]
  },
  {
   "cell_type": "code",
   "execution_count": null,
   "id": "48f0899a",
   "metadata": {},
   "outputs": [],
   "source": []
  }
 ],
 "metadata": {
  "kernelspec": {
   "display_name": "Python 3 (ipykernel)",
   "language": "python",
   "name": "python3"
  },
  "language_info": {
   "codemirror_mode": {
    "name": "ipython",
    "version": 3
   },
   "file_extension": ".py",
   "mimetype": "text/x-python",
   "name": "python",
   "nbconvert_exporter": "python",
   "pygments_lexer": "ipython3",
   "version": "3.11.5"
  }
 },
 "nbformat": 4,
 "nbformat_minor": 5
}
