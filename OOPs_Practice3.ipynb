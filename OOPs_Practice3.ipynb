{
 "cells": [
  {
   "cell_type": "code",
   "execution_count": 31,
   "id": "d935723b",
   "metadata": {},
   "outputs": [],
   "source": [
    "#Encapsulation:\n",
    "class Person():\n",
    "    def __init__(self,name,age):\n",
    "        #data\n",
    "        self.name = name\n",
    "        self.age = age\n",
    "    def get_age(self):\n",
    "        print(self.age)\n",
    "    def set_age(self,newage):\n",
    "        if newage>60:\n",
    "            print(\"age cannot greater than 60\")\n",
    "        else:\n",
    "            self.age = newage"
   ]
  },
  {
   "cell_type": "code",
   "execution_count": 32,
   "id": "41233b7a",
   "metadata": {},
   "outputs": [],
   "source": [
    "p1 = Person('asad',12)"
   ]
  },
  {
   "cell_type": "code",
   "execution_count": 33,
   "id": "d8d4bb10",
   "metadata": {},
   "outputs": [
    {
     "data": {
      "text/plain": [
       "<__main__.Person at 0x29ddd51b990>"
      ]
     },
     "execution_count": 33,
     "metadata": {},
     "output_type": "execute_result"
    }
   ],
   "source": [
    "p1"
   ]
  },
  {
   "cell_type": "code",
   "execution_count": 34,
   "id": "6a22ac00",
   "metadata": {},
   "outputs": [
    {
     "data": {
      "text/plain": [
       "12"
      ]
     },
     "execution_count": 34,
     "metadata": {},
     "output_type": "execute_result"
    }
   ],
   "source": [
    "p1.age"
   ]
  },
  {
   "cell_type": "code",
   "execution_count": 35,
   "id": "9d43a741",
   "metadata": {},
   "outputs": [],
   "source": [
    "p1.age = 112"
   ]
  },
  {
   "cell_type": "code",
   "execution_count": 36,
   "id": "dc5408b4",
   "metadata": {},
   "outputs": [
    {
     "data": {
      "text/plain": [
       "112"
      ]
     },
     "execution_count": 36,
     "metadata": {},
     "output_type": "execute_result"
    }
   ],
   "source": [
    "p1.age"
   ]
  },
  {
   "cell_type": "code",
   "execution_count": 37,
   "id": "f3075e66",
   "metadata": {},
   "outputs": [
    {
     "name": "stdout",
     "output_type": "stream",
     "text": [
      "112\n"
     ]
    }
   ],
   "source": [
    "p1.get_age()"
   ]
  },
  {
   "cell_type": "code",
   "execution_count": 38,
   "id": "7d4650ec",
   "metadata": {},
   "outputs": [
    {
     "name": "stdout",
     "output_type": "stream",
     "text": [
      "age cannot greater than 60\n"
     ]
    }
   ],
   "source": [
    "p1.set_age(112)"
   ]
  },
  {
   "cell_type": "markdown",
   "id": "950a653e",
   "metadata": {},
   "source": [
    "# Inheritance"
   ]
  },
  {
   "cell_type": "markdown",
   "id": "a9a8982f",
   "metadata": {},
   "source": [
    "- is a relationship"
   ]
  },
  {
   "cell_type": "code",
   "execution_count": 46,
   "id": "8445fbff",
   "metadata": {},
   "outputs": [],
   "source": [
    "class Car():\n",
    "    def __init__(self,make,model,engine,color,year):\n",
    "        self.make = make\n",
    "        self.model = model\n",
    "        self.engine = engine\n",
    "        self.color = color\n",
    "        self.year = year\n",
    "    def start_car(self):\n",
    "        print(\"Car starting\")\n",
    "    def apply_break(self):\n",
    "        print(\"Car stopped\")\n",
    "    def fill_tank(self):\n",
    "        print(\"Car tank is being filled\")\n",
    "        \n",
    "        "
   ]
  },
  {
   "cell_type": "code",
   "execution_count": 47,
   "id": "d41e2a96",
   "metadata": {},
   "outputs": [],
   "source": [
    "car1 = Car('Honda','City','1300C','Black',2022)"
   ]
  },
  {
   "cell_type": "code",
   "execution_count": 48,
   "id": "ed3dd10a",
   "metadata": {},
   "outputs": [],
   "source": [
    "class ElectricCar(Car):\n",
    "    pass"
   ]
  },
  {
   "cell_type": "code",
   "execution_count": 49,
   "id": "9e517003",
   "metadata": {},
   "outputs": [
    {
     "ename": "SyntaxError",
     "evalue": "invalid syntax (1060313733.py, line 2)",
     "output_type": "error",
     "traceback": [
      "\u001b[1;36m  Cell \u001b[1;32mIn[49], line 2\u001b[1;36m\u001b[0m\n\u001b[1;33m    e1.\u001b[0m\n\u001b[1;37m       ^\u001b[0m\n\u001b[1;31mSyntaxError\u001b[0m\u001b[1;31m:\u001b[0m invalid syntax\n"
     ]
    }
   ],
   "source": [
    "el = ElectricCar('Honda','City','1300C','Black',2022)\n",
    "e1."
   ]
  },
  {
   "cell_type": "code",
   "execution_count": 50,
   "id": "329f317a",
   "metadata": {},
   "outputs": [],
   "source": [
    "class Car():\n",
    "    def __init__(self,make,model,year,engine,color):\n",
    "        self.make = make\n",
    "        self.model = model\n",
    "        self.engine = engine\n",
    "        self.color = color\n",
    "        self.year = year\n",
    "    def start_car(self):\n",
    "        print(\"Car starting\")\n",
    "    def apply_break(self):\n",
    "        print(\"Car stopped\")\n",
    "    def fill_tank(self):\n",
    "        print(\"Car tank is being filled\")"
   ]
  },
  {
   "cell_type": "code",
   "execution_count": 51,
   "id": "f09524be",
   "metadata": {},
   "outputs": [],
   "source": [
    "class ElectricCar(Car):\n",
    "    def __init__(self,make,model,year,engine,color,battery):\n",
    "        super().__init__(make,model,year,engine,color)\n",
    "        self.battery = battery\n",
    "        \n",
    "    def charger(self):\n",
    "        print(\"Batter charging in progress\")\n",
    "        "
   ]
  },
  {
   "cell_type": "code",
   "execution_count": 52,
   "id": "6a677e23",
   "metadata": {},
   "outputs": [],
   "source": [
    "ec1 = ElectricCar('Honda','City',2022,'13000C','Black','200Amp')"
   ]
  },
  {
   "cell_type": "code",
   "execution_count": 53,
   "id": "dfb5c425",
   "metadata": {},
   "outputs": [
    {
     "data": {
      "text/plain": [
       "'Honda'"
      ]
     },
     "execution_count": 53,
     "metadata": {},
     "output_type": "execute_result"
    }
   ],
   "source": [
    "ec1.make"
   ]
  },
  {
   "cell_type": "code",
   "execution_count": 54,
   "id": "c5f49b1a",
   "metadata": {},
   "outputs": [],
   "source": [
    "#Animal\n",
    "class Animal():\n",
    "    def __init__(self,name,gender,age):\n",
    "        self.name = name\n",
    "        self.gender = gender\n",
    "        self.age = age\n",
    "    def start_eat(self):\n",
    "        print(\"eating start\")\n",
    "    def end_eat(self):\n",
    "        print(\"ending start\")"
   ]
  },
  {
   "cell_type": "code",
   "execution_count": 55,
   "id": "fa3dfacf",
   "metadata": {},
   "outputs": [],
   "source": [
    "class Cow(Animal):\n",
    "    def __init__(self,name,gender,age,size):\n",
    "        super().__init__(name,gender,age)\n",
    "        self.size = size\n",
    "    def check_size(self):\n",
    "        print(\"Size is big \")"
   ]
  },
  {
   "cell_type": "code",
   "execution_count": 56,
   "id": "714cf4ad",
   "metadata": {},
   "outputs": [],
   "source": [
    "Cow1 = Cow('Toni','Female',2,3)"
   ]
  },
  {
   "cell_type": "code",
   "execution_count": 57,
   "id": "084578fc",
   "metadata": {},
   "outputs": [
    {
     "data": {
      "text/plain": [
       "2"
      ]
     },
     "execution_count": 57,
     "metadata": {},
     "output_type": "execute_result"
    }
   ],
   "source": [
    "Cow1.age"
   ]
  },
  {
   "cell_type": "code",
   "execution_count": 60,
   "id": "020ded2e",
   "metadata": {},
   "outputs": [
    {
     "ename": "IndentationError",
     "evalue": "unexpected indent (2055189172.py, line 11)",
     "output_type": "error",
     "traceback": [
      "\u001b[1;36m  Cell \u001b[1;32mIn[60], line 11\u001b[1;36m\u001b[0m\n\u001b[1;33m    long_name = str(self.year) + ' ' + self.make + ' ' + self.model\u001b[0m\n\u001b[1;37m    ^\u001b[0m\n\u001b[1;31mIndentationError\u001b[0m\u001b[1;31m:\u001b[0m unexpected indent\n"
     ]
    }
   ],
   "source": [
    "class Car():\n",
    "    \"\"\"A simple attempt to represent a car.\"\"\"\n",
    "    def __init__(self, make, model, year):\n",
    "        \"\"\"Initialize attributes to describe a car.\"\"\"\n",
    "        self.make = make\n",
    "        self.model = model\n",
    "        self.year = year\n",
    "    def get_descriptive_name(self):\n",
    "         \n",
    "       \"\"\"Return a neatly formatted descriptive name.\"\"\"\n",
    "        long_name = str(self.year) + ' ' + self.make + ' ' + self.model\n",
    "        return long_name.title()\n",
    "my_new_car = Car('audi', 'a4', 2016)\n",
    "print(my_new_car.get_descriptive_name()"
   ]
  },
  {
   "cell_type": "code",
   "execution_count": null,
   "id": "b42fc836",
   "metadata": {},
   "outputs": [],
   "source": []
  }
 ],
 "metadata": {
  "kernelspec": {
   "display_name": "Python 3 (ipykernel)",
   "language": "python",
   "name": "python3"
  },
  "language_info": {
   "codemirror_mode": {
    "name": "ipython",
    "version": 3
   },
   "file_extension": ".py",
   "mimetype": "text/x-python",
   "name": "python",
   "nbconvert_exporter": "python",
   "pygments_lexer": "ipython3",
   "version": "3.11.5"
  }
 },
 "nbformat": 4,
 "nbformat_minor": 5
}
